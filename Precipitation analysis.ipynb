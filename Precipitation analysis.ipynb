{
    "cells": [
        {
            "cell_type": "markdown",
            "metadata": {},
            "source": "<h1>Description</h1>\nThis notebook analyzes and visualizes summary of weather"
        },
        {
            "cell_type": "code",
            "execution_count": 1,
            "metadata": {},
            "outputs": [
                {
                    "name": "stderr",
                    "output_type": "stream",
                    "text": "/opt/conda/envs/Python-3.9/lib/python3.9/site-packages/IPython/core/interactiveshell.py:3444: DtypeWarning: Columns (7,8,18,25) have mixed types.Specify dtype option on import or set low_memory=False.\n  exec(code_obj, self.user_global_ns, self.user_ns)\n"
                },
                {
                    "data": {
                        "text/html": "<div>\n<style scoped>\n    .dataframe tbody tr th:only-of-type {\n        vertical-align: middle;\n    }\n\n    .dataframe tbody tr th {\n        vertical-align: top;\n    }\n\n    .dataframe thead th {\n        text-align: right;\n    }\n</style>\n<table border=\"1\" class=\"dataframe\">\n  <thead>\n    <tr style=\"text-align: right;\">\n      <th></th>\n      <th>STA</th>\n      <th>Date</th>\n      <th>Precip</th>\n      <th>WindGustSpd</th>\n      <th>MaxTemp</th>\n      <th>MinTemp</th>\n      <th>MeanTemp</th>\n      <th>Snowfall</th>\n      <th>PoorWeather</th>\n      <th>YR</th>\n      <th>...</th>\n      <th>FB</th>\n      <th>FTI</th>\n      <th>ITH</th>\n      <th>PGT</th>\n      <th>TSHDSBRSGF</th>\n      <th>SD3</th>\n      <th>RHX</th>\n      <th>RHN</th>\n      <th>RVG</th>\n      <th>WTE</th>\n    </tr>\n  </thead>\n  <tbody>\n    <tr>\n      <th>0</th>\n      <td>10001</td>\n      <td>1942-7-1</td>\n      <td>1.016</td>\n      <td>NaN</td>\n      <td>25.555556</td>\n      <td>22.222222</td>\n      <td>23.888889</td>\n      <td>0.0</td>\n      <td>NaN</td>\n      <td>42</td>\n      <td>...</td>\n      <td>NaN</td>\n      <td>NaN</td>\n      <td>NaN</td>\n      <td>NaN</td>\n      <td>NaN</td>\n      <td>NaN</td>\n      <td>NaN</td>\n      <td>NaN</td>\n      <td>NaN</td>\n      <td>NaN</td>\n    </tr>\n    <tr>\n      <th>1</th>\n      <td>10001</td>\n      <td>1942-7-2</td>\n      <td>0</td>\n      <td>NaN</td>\n      <td>28.888889</td>\n      <td>21.666667</td>\n      <td>25.555556</td>\n      <td>0.0</td>\n      <td>NaN</td>\n      <td>42</td>\n      <td>...</td>\n      <td>NaN</td>\n      <td>NaN</td>\n      <td>NaN</td>\n      <td>NaN</td>\n      <td>NaN</td>\n      <td>NaN</td>\n      <td>NaN</td>\n      <td>NaN</td>\n      <td>NaN</td>\n      <td>NaN</td>\n    </tr>\n    <tr>\n      <th>2</th>\n      <td>10001</td>\n      <td>1942-7-3</td>\n      <td>2.54</td>\n      <td>NaN</td>\n      <td>26.111111</td>\n      <td>22.222222</td>\n      <td>24.444444</td>\n      <td>0.0</td>\n      <td>NaN</td>\n      <td>42</td>\n      <td>...</td>\n      <td>NaN</td>\n      <td>NaN</td>\n      <td>NaN</td>\n      <td>NaN</td>\n      <td>NaN</td>\n      <td>NaN</td>\n      <td>NaN</td>\n      <td>NaN</td>\n      <td>NaN</td>\n      <td>NaN</td>\n    </tr>\n    <tr>\n      <th>3</th>\n      <td>10001</td>\n      <td>1942-7-4</td>\n      <td>2.54</td>\n      <td>NaN</td>\n      <td>26.666667</td>\n      <td>22.222222</td>\n      <td>24.444444</td>\n      <td>0.0</td>\n      <td>NaN</td>\n      <td>42</td>\n      <td>...</td>\n      <td>NaN</td>\n      <td>NaN</td>\n      <td>NaN</td>\n      <td>NaN</td>\n      <td>NaN</td>\n      <td>NaN</td>\n      <td>NaN</td>\n      <td>NaN</td>\n      <td>NaN</td>\n      <td>NaN</td>\n    </tr>\n    <tr>\n      <th>4</th>\n      <td>10001</td>\n      <td>1942-7-5</td>\n      <td>0</td>\n      <td>NaN</td>\n      <td>26.666667</td>\n      <td>21.666667</td>\n      <td>24.444444</td>\n      <td>0.0</td>\n      <td>NaN</td>\n      <td>42</td>\n      <td>...</td>\n      <td>NaN</td>\n      <td>NaN</td>\n      <td>NaN</td>\n      <td>NaN</td>\n      <td>NaN</td>\n      <td>NaN</td>\n      <td>NaN</td>\n      <td>NaN</td>\n      <td>NaN</td>\n      <td>NaN</td>\n    </tr>\n  </tbody>\n</table>\n<p>5 rows \u00d7 31 columns</p>\n</div>",
                        "text/plain": "     STA      Date Precip  WindGustSpd    MaxTemp    MinTemp   MeanTemp  \\\n0  10001  1942-7-1  1.016          NaN  25.555556  22.222222  23.888889   \n1  10001  1942-7-2      0          NaN  28.888889  21.666667  25.555556   \n2  10001  1942-7-3   2.54          NaN  26.111111  22.222222  24.444444   \n3  10001  1942-7-4   2.54          NaN  26.666667  22.222222  24.444444   \n4  10001  1942-7-5      0          NaN  26.666667  21.666667  24.444444   \n\n  Snowfall PoorWeather  YR  ...  FB  FTI ITH  PGT  TSHDSBRSGF  SD3  RHX  RHN  \\\n0      0.0         NaN  42  ... NaN  NaN NaN  NaN         NaN  NaN  NaN  NaN   \n1      0.0         NaN  42  ... NaN  NaN NaN  NaN         NaN  NaN  NaN  NaN   \n2      0.0         NaN  42  ... NaN  NaN NaN  NaN         NaN  NaN  NaN  NaN   \n3      0.0         NaN  42  ... NaN  NaN NaN  NaN         NaN  NaN  NaN  NaN   \n4      0.0         NaN  42  ... NaN  NaN NaN  NaN         NaN  NaN  NaN  NaN   \n\n  RVG  WTE  \n0 NaN  NaN  \n1 NaN  NaN  \n2 NaN  NaN  \n3 NaN  NaN  \n4 NaN  NaN  \n\n[5 rows x 31 columns]"
                    },
                    "execution_count": 1,
                    "metadata": {},
                    "output_type": "execute_result"
                }
            ],
            "source": "# The code was removed by Watson Studio for sharing."
        },
        {
            "cell_type": "code",
            "execution_count": null,
            "metadata": {},
            "outputs": [],
            "source": ""
        }
    ],
    "metadata": {
        "kernelspec": {
            "display_name": "Python 3.9",
            "language": "python",
            "name": "python3"
        },
        "language_info": {
            "codemirror_mode": {
                "name": "ipython",
                "version": 3
            },
            "file_extension": ".py",
            "mimetype": "text/x-python",
            "name": "python",
            "nbconvert_exporter": "python",
            "pygments_lexer": "ipython3",
            "version": "3.9.12"
        }
    },
    "nbformat": 4,
    "nbformat_minor": 1
}